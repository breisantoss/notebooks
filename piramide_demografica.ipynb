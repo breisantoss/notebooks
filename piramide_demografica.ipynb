{
  "nbformat": 4,
  "nbformat_minor": 0,
  "metadata": {
    "colab": {
      "name": "piramide_demografica.ipynb",
      "provenance": [],
      "collapsed_sections": [],
      "toc_visible": true,
      "include_colab_link": true
    },
    "kernelspec": {
      "name": "python3",
      "display_name": "Python 3"
    }
  },
  "cells": [
    {
      "cell_type": "markdown",
      "metadata": {
        "id": "view-in-github",
        "colab_type": "text"
      },
      "source": [
        "<a href=\"https://colab.research.google.com/github/breisantoss/notebooks/blob/main/piramide_demografica.ipynb\" target=\"_parent\"><img src=\"https://colab.research.google.com/assets/colab-badge.svg\" alt=\"Open In Colab\"/></a>"
      ]
    },
    {
      "cell_type": "markdown",
      "metadata": {
        "id": "QBsd1HNE5L0v"
      },
      "source": [
        "# **Pirámide Demográfica Con Pandas y Seaborn**"
      ]
    },
    {
      "cell_type": "code",
      "metadata": {
        "id": "bCX0iocB4vDY",
        "colab": {
          "base_uri": "https://localhost:8080/"
        },
        "outputId": "ee6849b1-30a6-42f8-f7b6-22b1ba2e2536"
      },
      "source": [
        "!wget https://raw.githubusercontent.com/AntonioLagoD/notebooks/main/poblacionVigo.csv"
      ],
      "execution_count": 70,
      "outputs": [
        {
          "output_type": "stream",
          "text": [
            "--2021-01-28 19:04:07--  https://raw.githubusercontent.com/AntonioLagoD/notebooks/main/poblacionVigo.csv\n",
            "Resolving raw.githubusercontent.com (raw.githubusercontent.com)... 151.101.0.133, 151.101.64.133, 151.101.128.133, ...\n",
            "Connecting to raw.githubusercontent.com (raw.githubusercontent.com)|151.101.0.133|:443... connected.\n",
            "HTTP request sent, awaiting response... 200 OK\n",
            "Length: 373 [text/plain]\n",
            "Saving to: ‘poblacionVigo.csv.4’\n",
            "\n",
            "\rpoblacionVigo.csv.4   0%[                    ]       0  --.-KB/s               \rpoblacionVigo.csv.4 100%[===================>]     373  --.-KB/s    in 0s      \n",
            "\n",
            "2021-01-28 19:04:08 (15.5 MB/s) - ‘poblacionVigo.csv.4’ saved [373/373]\n",
            "\n"
          ],
          "name": "stdout"
        }
      ]
    },
    {
      "cell_type": "code",
      "metadata": {
        "id": "ngarbTKT5HjW"
      },
      "source": [
        "import numpy as np\r\n",
        "import pandas as pd \r\n",
        "import matplotlib.pyplot as plt\r\n",
        "import seaborn as sns"
      ],
      "execution_count": 71,
      "outputs": []
    },
    {
      "cell_type": "code",
      "metadata": {
        "id": "DTnKZLe25KKN"
      },
      "source": [
        "df = pd.read_csv('poblacionVigo.csv')"
      ],
      "execution_count": 72,
      "outputs": []
    },
    {
      "cell_type": "code",
      "metadata": {
        "colab": {
          "base_uri": "https://localhost:8080/",
          "height": 297
        },
        "id": "m_6DXFpsQofx",
        "outputId": "d48b1e2e-4011-492a-d00b-71c0f2b2f66a"
      },
      "source": [
        "df.head(8)"
      ],
      "execution_count": 73,
      "outputs": [
        {
          "output_type": "execute_result",
          "data": {
            "text/html": [
              "<div>\n",
              "<style scoped>\n",
              "    .dataframe tbody tr th:only-of-type {\n",
              "        vertical-align: middle;\n",
              "    }\n",
              "\n",
              "    .dataframe tbody tr th {\n",
              "        vertical-align: top;\n",
              "    }\n",
              "\n",
              "    .dataframe thead th {\n",
              "        text-align: right;\n",
              "    }\n",
              "</style>\n",
              "<table border=\"1\" class=\"dataframe\">\n",
              "  <thead>\n",
              "    <tr style=\"text-align: right;\">\n",
              "      <th></th>\n",
              "      <th>INTERVALO</th>\n",
              "      <th>HOMES</th>\n",
              "      <th>MULLERES</th>\n",
              "    </tr>\n",
              "  </thead>\n",
              "  <tbody>\n",
              "    <tr>\n",
              "      <th>0</th>\n",
              "      <td>00-05</td>\n",
              "      <td>6936</td>\n",
              "      <td>6594</td>\n",
              "    </tr>\n",
              "    <tr>\n",
              "      <th>1</th>\n",
              "      <td>06-10</td>\n",
              "      <td>7057</td>\n",
              "      <td>6526</td>\n",
              "    </tr>\n",
              "    <tr>\n",
              "      <th>2</th>\n",
              "      <td>11-15</td>\n",
              "      <td>7057</td>\n",
              "      <td>6585</td>\n",
              "    </tr>\n",
              "    <tr>\n",
              "      <th>3</th>\n",
              "      <td>16-20</td>\n",
              "      <td>6814</td>\n",
              "      <td>6284</td>\n",
              "    </tr>\n",
              "    <tr>\n",
              "      <th>4</th>\n",
              "      <td>21-25</td>\n",
              "      <td>6719</td>\n",
              "      <td>6412</td>\n",
              "    </tr>\n",
              "    <tr>\n",
              "      <th>5</th>\n",
              "      <td>26-30</td>\n",
              "      <td>7389</td>\n",
              "      <td>7562</td>\n",
              "    </tr>\n",
              "    <tr>\n",
              "      <th>6</th>\n",
              "      <td>31-35</td>\n",
              "      <td>8460</td>\n",
              "      <td>8829</td>\n",
              "    </tr>\n",
              "    <tr>\n",
              "      <th>7</th>\n",
              "      <td>36-40</td>\n",
              "      <td>11476</td>\n",
              "      <td>11686</td>\n",
              "    </tr>\n",
              "  </tbody>\n",
              "</table>\n",
              "</div>"
            ],
            "text/plain": [
              "  INTERVALO  HOMES  MULLERES\n",
              "0     00-05   6936      6594\n",
              "1     06-10   7057      6526\n",
              "2     11-15   7057      6585\n",
              "3     16-20   6814      6284\n",
              "4     21-25   6719      6412\n",
              "5     26-30   7389      7562\n",
              "6     31-35   8460      8829\n",
              "7     36-40  11476     11686"
            ]
          },
          "metadata": {
            "tags": []
          },
          "execution_count": 73
        }
      ]
    },
    {
      "cell_type": "code",
      "metadata": {
        "colab": {
          "base_uri": "https://localhost:8080/",
          "height": 297
        },
        "id": "ErzhtDSxX1wF",
        "outputId": "b3cd02f8-d328-4747-d04d-b63755c1bd6e"
      },
      "source": [
        "df.columns=['idade','homes','mulleres']\r\n",
        "df.head(8)"
      ],
      "execution_count": 74,
      "outputs": [
        {
          "output_type": "execute_result",
          "data": {
            "text/html": [
              "<div>\n",
              "<style scoped>\n",
              "    .dataframe tbody tr th:only-of-type {\n",
              "        vertical-align: middle;\n",
              "    }\n",
              "\n",
              "    .dataframe tbody tr th {\n",
              "        vertical-align: top;\n",
              "    }\n",
              "\n",
              "    .dataframe thead th {\n",
              "        text-align: right;\n",
              "    }\n",
              "</style>\n",
              "<table border=\"1\" class=\"dataframe\">\n",
              "  <thead>\n",
              "    <tr style=\"text-align: right;\">\n",
              "      <th></th>\n",
              "      <th>idade</th>\n",
              "      <th>homes</th>\n",
              "      <th>mulleres</th>\n",
              "    </tr>\n",
              "  </thead>\n",
              "  <tbody>\n",
              "    <tr>\n",
              "      <th>0</th>\n",
              "      <td>00-05</td>\n",
              "      <td>6936</td>\n",
              "      <td>6594</td>\n",
              "    </tr>\n",
              "    <tr>\n",
              "      <th>1</th>\n",
              "      <td>06-10</td>\n",
              "      <td>7057</td>\n",
              "      <td>6526</td>\n",
              "    </tr>\n",
              "    <tr>\n",
              "      <th>2</th>\n",
              "      <td>11-15</td>\n",
              "      <td>7057</td>\n",
              "      <td>6585</td>\n",
              "    </tr>\n",
              "    <tr>\n",
              "      <th>3</th>\n",
              "      <td>16-20</td>\n",
              "      <td>6814</td>\n",
              "      <td>6284</td>\n",
              "    </tr>\n",
              "    <tr>\n",
              "      <th>4</th>\n",
              "      <td>21-25</td>\n",
              "      <td>6719</td>\n",
              "      <td>6412</td>\n",
              "    </tr>\n",
              "    <tr>\n",
              "      <th>5</th>\n",
              "      <td>26-30</td>\n",
              "      <td>7389</td>\n",
              "      <td>7562</td>\n",
              "    </tr>\n",
              "    <tr>\n",
              "      <th>6</th>\n",
              "      <td>31-35</td>\n",
              "      <td>8460</td>\n",
              "      <td>8829</td>\n",
              "    </tr>\n",
              "    <tr>\n",
              "      <th>7</th>\n",
              "      <td>36-40</td>\n",
              "      <td>11476</td>\n",
              "      <td>11686</td>\n",
              "    </tr>\n",
              "  </tbody>\n",
              "</table>\n",
              "</div>"
            ],
            "text/plain": [
              "   idade  homes  mulleres\n",
              "0  00-05   6936      6594\n",
              "1  06-10   7057      6526\n",
              "2  11-15   7057      6585\n",
              "3  16-20   6814      6284\n",
              "4  21-25   6719      6412\n",
              "5  26-30   7389      7562\n",
              "6  31-35   8460      8829\n",
              "7  36-40  11476     11686"
            ]
          },
          "metadata": {
            "tags": []
          },
          "execution_count": 74
        }
      ]
    },
    {
      "cell_type": "code",
      "metadata": {
        "id": "UzfUjT-R6Cx-",
        "colab": {
          "base_uri": "https://localhost:8080/",
          "height": 297
        },
        "outputId": "20f123fb-ad56-420c-f99d-1b32d371a4b2"
      },
      "source": [
        "df['homes'] = df['homes'] * -1\r\n",
        "df.sort_values(by=['idade'], inplace=True, ascending=False)\r\n",
        "df.head(8)"
      ],
      "execution_count": 95,
      "outputs": [
        {
          "output_type": "execute_result",
          "data": {
            "text/html": [
              "<div>\n",
              "<style scoped>\n",
              "    .dataframe tbody tr th:only-of-type {\n",
              "        vertical-align: middle;\n",
              "    }\n",
              "\n",
              "    .dataframe tbody tr th {\n",
              "        vertical-align: top;\n",
              "    }\n",
              "\n",
              "    .dataframe thead th {\n",
              "        text-align: right;\n",
              "    }\n",
              "</style>\n",
              "<table border=\"1\" class=\"dataframe\">\n",
              "  <thead>\n",
              "    <tr style=\"text-align: right;\">\n",
              "      <th></th>\n",
              "      <th>idade</th>\n",
              "      <th>homes</th>\n",
              "      <th>mulleres</th>\n",
              "    </tr>\n",
              "  </thead>\n",
              "  <tbody>\n",
              "    <tr>\n",
              "      <th>19</th>\n",
              "      <td>96-99</td>\n",
              "      <td>-169</td>\n",
              "      <td>627</td>\n",
              "    </tr>\n",
              "    <tr>\n",
              "      <th>18</th>\n",
              "      <td>91-95</td>\n",
              "      <td>-621</td>\n",
              "      <td>1751</td>\n",
              "    </tr>\n",
              "    <tr>\n",
              "      <th>17</th>\n",
              "      <td>86-90</td>\n",
              "      <td>-1997</td>\n",
              "      <td>4194</td>\n",
              "    </tr>\n",
              "    <tr>\n",
              "      <th>16</th>\n",
              "      <td>81-85</td>\n",
              "      <td>-3602</td>\n",
              "      <td>6064</td>\n",
              "    </tr>\n",
              "    <tr>\n",
              "      <th>15</th>\n",
              "      <td>76-80</td>\n",
              "      <td>-4543</td>\n",
              "      <td>6070</td>\n",
              "    </tr>\n",
              "    <tr>\n",
              "      <th>14</th>\n",
              "      <td>71-75</td>\n",
              "      <td>-6839</td>\n",
              "      <td>8775</td>\n",
              "    </tr>\n",
              "    <tr>\n",
              "      <th>13</th>\n",
              "      <td>66-70</td>\n",
              "      <td>-7965</td>\n",
              "      <td>9793</td>\n",
              "    </tr>\n",
              "    <tr>\n",
              "      <th>12</th>\n",
              "      <td>61-65</td>\n",
              "      <td>-8277</td>\n",
              "      <td>10279</td>\n",
              "    </tr>\n",
              "  </tbody>\n",
              "</table>\n",
              "</div>"
            ],
            "text/plain": [
              "    idade  homes  mulleres\n",
              "19  96-99   -169       627\n",
              "18  91-95   -621      1751\n",
              "17  86-90  -1997      4194\n",
              "16  81-85  -3602      6064\n",
              "15  76-80  -4543      6070\n",
              "14  71-75  -6839      8775\n",
              "13  66-70  -7965      9793\n",
              "12  61-65  -8277     10279"
            ]
          },
          "metadata": {
            "tags": []
          },
          "execution_count": 95
        }
      ]
    },
    {
      "cell_type": "code",
      "metadata": {
        "id": "ov6lTeBq6GqO",
        "colab": {
          "base_uri": "https://localhost:8080/",
          "height": 347
        },
        "outputId": "779c78c1-21cd-487a-aea8-0185e3ee8306"
      },
      "source": [
        "bar_plot = sns.barplot(x= df['mulleres'], y=df['idade'], data=df )\r\n",
        "bar_plot = sns.barplot(x=df['homes'], y=df['idade'], data=df )\r\n",
        "bar_plot.set(xlabel=\"Homes <----|----> Mulleres\", ylabel=\"Grupo De Edad\", title = \"Pirámide Demográfica\")"
      ],
      "execution_count": 99,
      "outputs": [
        {
          "output_type": "execute_result",
          "data": {
            "text/plain": [
              "[Text(0, 0.5, 'Grupo De Edad'),\n",
              " Text(0.5, 0, 'Homes <----|----> Mulleres'),\n",
              " Text(0.5, 1.0, 'Pirámide Demográfica')]"
            ]
          },
          "metadata": {
            "tags": []
          },
          "execution_count": 99
        },
        {
          "output_type": "display_data",
          "data": {
            "image/png": "[encoded data removed]",
            "text/plain": [
              "<Figure size 432x288 with 1 Axes>"
            ]
          },
          "metadata": {
            "tags": [],
            "needs_background": "light"
          }
        }
      ]
    }
  ]
}